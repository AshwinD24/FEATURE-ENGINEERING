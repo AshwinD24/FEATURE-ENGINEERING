{
 "cells": [
  {
   "cell_type": "code",
   "execution_count": 6,
   "metadata": {},
   "outputs": [
    {
     "name": "stdout",
     "output_type": "stream",
     "text": [
      "   Marks  Height  Study_Hours Marks_Grade Height_Category Study_Level\n",
      "0     45     150          1.0     Average           Short         Low\n",
      "1     67     160          3.0        Good          Medium     Average\n",
      "2     89     165          4.5   Excellent          Medium        High\n",
      "3     33     170          2.0        Fail            Tall     Average\n",
      "4     76     155          6.0        Good           Short        High\n",
      "5     59     180          5.0     Average       Very Tall        High\n"
     ]
    }
   ],
   "source": [
    "import pandas as pd\n",
    "\n",
    "data = {\n",
    "    'Marks': [45, 67, 89, 33, 76, 59],\n",
    "    'Height': [150, 160, 165, 170, 155, 180],\n",
    "    'Study_Hours': [1, 3, 4.5, 2, 6, 5]\n",
    "}\n",
    "\n",
    "df  =pd.DataFrame(data)\n",
    "\n",
    "# data of marks\n",
    "\n",
    "marks_bins = [0,40,60,80,100]\n",
    "marks_labels = ['Fail', 'Average', 'Good', 'Excellent']\n",
    "df['Marks_Grade'] = pd.cut(df['Marks'], bins=marks_bins, labels=marks_labels)\n",
    "\n",
    "# data of height\n",
    "height_bins = [0, 155, 165, 175, 200]\n",
    "height_labels = ['Short', 'Medium', 'Tall', 'Very Tall']\n",
    "df['Height_Category'] = pd.cut(df['Height'], bins=height_bins, labels=height_labels)\n",
    "\n",
    "# data for study hours\n",
    "\n",
    "def study_level(hours):\n",
    "    if hours < 2:\n",
    "        return 'Low'\n",
    "    elif hours < 4:\n",
    "        return 'Average'\n",
    "    else:\n",
    "        return 'High'\n",
    "\n",
    "df['Study_Level'] = df['Study_Hours'].apply(study_level)\n",
    "\n",
    "print(df)"
   ]
  }
 ],
 "metadata": {
  "kernelspec": {
   "display_name": "Python 3",
   "language": "python",
   "name": "python3"
  },
  "language_info": {
   "codemirror_mode": {
    "name": "ipython",
    "version": 3
   },
   "file_extension": ".py",
   "mimetype": "text/x-python",
   "name": "python",
   "nbconvert_exporter": "python",
   "pygments_lexer": "ipython3",
   "version": "3.11.0"
  }
 },
 "nbformat": 4,
 "nbformat_minor": 2
}
